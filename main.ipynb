{
 "cells": [
  {
   "cell_type": "code",
   "execution_count": 1,
   "id": "0135a895",
   "metadata": {},
   "outputs": [
    {
     "name": "stdout",
     "output_type": "stream",
     "text": [
      "Defaulting to user installation because normal site-packages is not writeable\n",
      "Requirement already satisfied: opencv-python in /Users/ankitkumar/Library/Python/3.9/lib/python/site-packages (4.12.0.88)\n",
      "Requirement already satisfied: cvzone in /Users/ankitkumar/Library/Python/3.9/lib/python/site-packages (1.6.1)\n",
      "Requirement already satisfied: autopy in /Users/ankitkumar/Library/Python/3.9/lib/python/site-packages (4.0.1)\n",
      "Requirement already satisfied: numpy in /Users/ankitkumar/Library/Python/3.9/lib/python/site-packages (2.0.2)\n",
      "\u001b[33mWARNING: You are using pip version 21.2.4; however, version 25.1.1 is available.\n",
      "You should consider upgrading via the '/Library/Developer/CommandLineTools/usr/bin/python3 -m pip install --upgrade pip' command.\u001b[0m\n",
      "Note: you may need to restart the kernel to use updated packages.\n"
     ]
    }
   ],
   "source": [
    "pip install opencv-python cvzone autopy numpy\n"
   ]
  },
  {
   "cell_type": "code",
   "execution_count": 2,
   "id": "9b61b269",
   "metadata": {},
   "outputs": [
    {
     "name": "stderr",
     "output_type": "stream",
     "text": [
      "/Users/ankitkumar/Library/Python/3.9/lib/python/site-packages/urllib3/__init__.py:35: NotOpenSSLWarning: urllib3 v2 only supports OpenSSL 1.1.1+, currently the 'ssl' module is compiled with 'LibreSSL 2.8.3'. See: https://github.com/urllib3/urllib3/issues/3020\n",
      "  warnings.warn(\n"
     ]
    }
   ],
   "source": [
    "import cv2\n",
    "import numpy as np\n",
    "import autopy\n",
    "from cvzone.HandTrackingModule import HandDetector\n",
    "import time"
   ]
  },
  {
   "cell_type": "code",
   "execution_count": 3,
   "id": "96bafd3c",
   "metadata": {},
   "outputs": [
    {
     "data": {
      "text/plain": [
       "True"
      ]
     },
     "execution_count": 3,
     "metadata": {},
     "output_type": "execute_result"
    }
   ],
   "source": [
    "# Initialize webcam\n",
    "cap = cv2.VideoCapture(0)\n",
    "cap.set(3, 640)\n",
    "cap.set(4, 480)"
   ]
  },
  {
   "cell_type": "code",
   "execution_count": 4,
   "id": "24530185",
   "metadata": {},
   "outputs": [
    {
     "name": "stderr",
     "output_type": "stream",
     "text": [
      "WARNING: All log messages before absl::InitializeLog() is called are written to STDERR\n",
      "I0000 00:00:1753333236.802734 45789001 gl_context.cc:357] GL version: 2.1 (2.1 Metal - 88.1), renderer: Apple M1\n"
     ]
    }
   ],
   "source": [
    "# Initialize hand detector\n",
    "detector = HandDetector(detectionCon=0.8, maxHands=1)\n",
    "screen_w, screen_h = autopy.screen.size()\n",
    "click_down = False\n",
    "plocX, plocY = 0, 0\n",
    "clocX, clocY = 0, 0\n",
    "smoothening = 7"
   ]
  },
  {
   "cell_type": "code",
   "execution_count": null,
   "id": "d0e52931",
   "metadata": {},
   "outputs": [
    {
     "name": "stderr",
     "output_type": "stream",
     "text": [
      "INFO: Created TensorFlow Lite XNNPACK delegate for CPU.\n",
      "W0000 00:00:1753333236.943413 45789233 inference_feedback_manager.cc:114] Feedback manager requires a model with a single signature inference. Disabling support for feedback tensors.\n",
      "W0000 00:00:1753333237.015787 45789233 inference_feedback_manager.cc:114] Feedback manager requires a model with a single signature inference. Disabling support for feedback tensors.\n",
      "2025-07-24 10:30:37.839 Python[12178:45789001] WARNING: Secure coding is automatically enabled for restorable state! However, not on all supported macOS versions of this application. Opt-in to secure coding explicitly by implementing NSApplicationDelegate.applicationSupportsSecureRestorableState:.\n",
      "/Users/ankitkumar/Library/Python/3.9/lib/python/site-packages/google/protobuf/symbol_database.py:55: UserWarning: SymbolDatabase.GetPrototype() is deprecated. Please use message_factory.GetMessageClass() instead. SymbolDatabase.GetPrototype() will be removed soon.\n",
      "  warnings.warn('SymbolDatabase.GetPrototype() is deprecated. Please '\n"
     ]
    }
   ],
   "source": [
    "while True:\n",
    "    success, img = cap.read()\n",
    "    img = cv2.flip(img, 1)\n",
    "    hands, img = detector.findHands(img, flipType=False)\n",
    "    if hands:\n",
    "        hand = hands[0]\n",
    "        lmList = hand[\"lmList\"]\n",
    "        x1, y1 = lmList[8][0], lmList[8][1]   \n",
    "        x2, y2 = lmList[6][0], lmList[6][1]   \n",
    "        cv2.circle(img, (x1, y1), 10, (255, 0, 255), cv2.FILLED)\n",
    "        cv2.circle(img, (x2, y2), 10, (255, 0, 255), cv2.FILLED)\n",
    "        cv2.line(img, (x1, y1), (x2, y2), (255, 0, 255), 3)\n",
    "        screen_x = np.interp(x1, [100, 540], [0, screen_w])\n",
    "        screen_y = np.interp(y1, [100, 380], [0, screen_h])\n",
    "        clocX = plocX + (screen_x - plocX) / smoothening\n",
    "        clocY = plocY + (screen_y - plocY) / smoothening\n",
    "        clocX = max(0, min(screen_w - 1, clocX))\n",
    "        clocY = max(0, min(screen_h - 1, clocY))\n",
    "        autopy.mouse.move(clocX, clocY)\n",
    "        plocX, plocY = clocX, clocY\n",
    "        if y1 > y2 + 20:  \n",
    "            if not click_down:\n",
    "                autopy.mouse.click()\n",
    "                click_down = True\n",
    "                cv2.circle(img, (x1, y1), 15, (0, 255, 0), cv2.FILLED)\n",
    "                cv2.putText(img, \"Click!\", (x1+20, y1), cv2.FONT_HERSHEY_SIMPLEX, 1, (0,255,0), 3)\n",
    "        else:\n",
    "            click_down = False\n",
    "    cv2.putText(img, \"Virtual Mouse | Bend index finger to click | 'q' to quit\", (10, 30),\n",
    "                cv2.FONT_HERSHEY_SIMPLEX, 0.6, (255, 255, 255), 2)\n",
    "    \n",
    "    cv2.imshow(\"Virtual Mouse\", img)\n",
    "    \n",
    "    key = cv2.waitKey(1)\n",
    "    if key == ord('q'):\n",
    "        break\n",
    "cap.release()\n",
    "cv2.destroyAllWindows()\n"
   ]
  }
 ],
 "metadata": {
  "kernelspec": {
   "display_name": "Python 3",
   "language": "python",
   "name": "python3"
  },
  "language_info": {
   "codemirror_mode": {
    "name": "ipython",
    "version": 3
   },
   "file_extension": ".py",
   "mimetype": "text/x-python",
   "name": "python",
   "nbconvert_exporter": "python",
   "pygments_lexer": "ipython3",
   "version": "3.9.6"
  }
 },
 "nbformat": 4,
 "nbformat_minor": 5
}
